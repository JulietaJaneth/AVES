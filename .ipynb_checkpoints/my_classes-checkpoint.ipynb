{
 "cells": [
  {
   "cell_type": "code",
   "execution_count": 1,
   "id": "ceb1f11c",
   "metadata": {},
   "outputs": [],
   "source": [
    "import pickle\n",
    "import pandas as pd\n",
    "import numpy as np\n",
    "import torch\n",
    "from torch.utils.data.dataset import Dataset"
   ]
  },
  {
   "cell_type": "code",
   "execution_count": 2,
   "id": "e799fe80",
   "metadata": {},
   "outputs": [],
   "source": [
    "def __init__(self, list_IDs, labels):\n",
    "    'Initialization'\n",
    "    self.labels = labels\n",
    "    self.list_IDs = list_IDs"
   ]
  },
  {
   "cell_type": "code",
   "execution_count": 3,
   "id": "ab4dc533",
   "metadata": {},
   "outputs": [],
   "source": [
    "def __len__(self):\n",
    "    'Denotes the total number of samples'\n",
    "    return len(self.list_IDs)"
   ]
  },
  {
   "cell_type": "code",
   "execution_count": 4,
   "id": "52da8faa",
   "metadata": {},
   "outputs": [],
   "source": [
    "def __getitem__(self, index):\n",
    "    'Generates one sample of data'\n",
    "    # Select sample\n",
    "    ID = self.list_IDs[index]\n",
    "    \n",
    "    # Load data and get label\n",
    "    f2=open('/media/birds/Espectrogramas/LIFECLEF2017_BIRD_XC_WAV_RN' + ID + '.pkl', 'rb')\n",
    "    X=pickle.load(f2)\n",
    "    f2.close()\n",
    "    \n",
    "    y = self.labels[ID]\n",
    "\n",
    "    return X, y"
   ]
  },
  {
   "cell_type": "code",
   "execution_count": 5,
   "id": "c9863787",
   "metadata": {},
   "outputs": [],
   "source": [
    "class Dataset(torch.utils.data.Dataset):\n",
    "  'Characterizes a dataset for PyTorch'\n",
    "  def __init__(self, list_IDs, labels):\n",
    "        'Initialization'\n",
    "        self.labels = labels\n",
    "        self.list_IDs = list_IDs\n",
    "\n",
    "  def __len__(self):\n",
    "        'Denotes the total number of samples'\n",
    "        return len(self.list_IDs)\n",
    "\n",
    "  def __getitem__(self, index):\n",
    "        'Generates one sample of data'\n",
    "        # Select sample\n",
    "        ID = self.list_IDs[index]\n",
    "\n",
    "        # Load data and get label\n",
    "        f2=open('/media/birds/Espectrogramas/LIFECLEF2017_BIRD_XC_WAV_RN' + ID + '.pkl', 'rb')\n",
    "        X=pickle.load(f2)\n",
    "        f2.close()\n",
    "        \n",
    "        y = self.labels[ID]\n",
    "\n",
    "        return X, y"
   ]
  },
  {
   "cell_type": "code",
   "execution_count": null,
   "id": "8833c0bf",
   "metadata": {},
   "outputs": [],
   "source": []
  }
 ],
 "metadata": {
  "kernelspec": {
   "display_name": "Python 3 (ipykernel)",
   "language": "python",
   "name": "python3"
  },
  "language_info": {
   "codemirror_mode": {
    "name": "ipython",
    "version": 3
   },
   "file_extension": ".py",
   "mimetype": "text/x-python",
   "name": "python",
   "nbconvert_exporter": "python",
   "pygments_lexer": "ipython3",
   "version": "3.7.5"
  }
 },
 "nbformat": 4,
 "nbformat_minor": 5
}
